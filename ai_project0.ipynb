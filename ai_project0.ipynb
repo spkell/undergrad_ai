{
 "cells": [
  {
   "cell_type": "code",
   "execution_count": 6,
   "metadata": {},
   "outputs": [
    {
     "ename": "FileNotFoundError",
     "evalue": "[Errno 2] No such file or directory: '-f'",
     "output_type": "error",
     "traceback": [
      "\u001b[0;31m---------------------------------------------------------------------------\u001b[0m",
      "\u001b[0;31mFileNotFoundError\u001b[0m                         Traceback (most recent call last)",
      "\u001b[0;32m<ipython-input-6-e7c0cfdfcb3f>\u001b[0m in \u001b[0;36m<module>\u001b[0;34m\u001b[0m\n\u001b[1;32m      1\u001b[0m \u001b[0;32mimport\u001b[0m \u001b[0msys\u001b[0m\u001b[0;34m\u001b[0m\u001b[0;34m\u001b[0m\u001b[0m\n\u001b[0;32m----> 2\u001b[0;31m \u001b[0mmaze\u001b[0m \u001b[0;34m=\u001b[0m \u001b[0mopen\u001b[0m\u001b[0;34m(\u001b[0m\u001b[0msys\u001b[0m\u001b[0;34m.\u001b[0m\u001b[0margv\u001b[0m\u001b[0;34m[\u001b[0m\u001b[0;36m1\u001b[0m\u001b[0;34m]\u001b[0m\u001b[0;34m,\u001b[0m \u001b[0;34m\"r\"\u001b[0m\u001b[0;34m)\u001b[0m\u001b[0;34m\u001b[0m\u001b[0;34m\u001b[0m\u001b[0m\n\u001b[0m\u001b[1;32m      3\u001b[0m \u001b[0mprint\u001b[0m\u001b[0;34m(\u001b[0m\u001b[0mmaze\u001b[0m\u001b[0;34m.\u001b[0m\u001b[0mread\u001b[0m\u001b[0;34m(\u001b[0m\u001b[0;34m)\u001b[0m\u001b[0;34m)\u001b[0m\u001b[0;34m\u001b[0m\u001b[0;34m\u001b[0m\u001b[0m\n",
      "\u001b[0;31mFileNotFoundError\u001b[0m: [Errno 2] No such file or directory: '-f'"
     ]
    }
   ],
   "source": [
    "import sys\n",
    "maze = open(sys.argv[1], \"r\")\n",
    "print(maze.read())"
   ]
  },
  {
   "cell_type": "code",
   "execution_count": 14,
   "metadata": {},
   "outputs": [
    {
     "name": "stdout",
     "output_type": "stream",
     "text": [
      "S......\n",
      ".......\n",
      "...*...\n",
      "....*..\n",
      ".....*.\n",
      "..*....\n",
      "......G\n",
      "\n"
     ]
    }
   ],
   "source": [
    "maze = open(\"/Users/sean/Desktop/AI/project0/project-1-rolling-block-mazes-kelly-sean-griffin/maze1.txt\", \"r\")\n",
    "print(maze.read())"
   ]
  },
  {
   "cell_type": "code",
   "execution_count": 3,
   "metadata": {
    "scrolled": false
   },
   "outputs": [
    {
     "data": {
      "text/plain": [
       "[['S', '.', '.', '.', '.', '.', '.'],\n",
       " ['.', '.', '.', '.', '.', '.', '.'],\n",
       " ['.', '.', '.', '*', '.', '.', '.'],\n",
       " ['.', '.', '.', '.', '*', '.', '.'],\n",
       " ['.', '.', '.', '.', '.', '*', '.'],\n",
       " ['.', '.', '*', '.', '.', '.', '.'],\n",
       " ['.', '.', '.', '.', '.', '.', 'G']]"
      ]
     },
     "execution_count": 3,
     "metadata": {},
     "output_type": "execute_result"
    }
   ],
   "source": [
    "maze_file = open(\"/Users/sean/Desktop/AI/project0/project-1-rolling-block-mazes-kelly-sean-griffin/maze1.txt\", \"r\")\n",
    "visual_maze = maze_file.readlines() #visually appealing view of maze with '\\n'\n",
    "maze = []\n",
    "\n",
    "#removes newline from end of each row in maze and appends it to 2D maze array\n",
    "for row in range(len(visual_maze)):\n",
    "    maze.append(list(visual_maze[row]))\n",
    "    del maze[row][len(maze[row])-1]\n",
    "maze"
   ]
  },
  {
   "cell_type": "code",
   "execution_count": 144,
   "metadata": {},
   "outputs": [],
   "source": [
    "class Node:\n",
    "    def __init__(self, position, parent):\n",
    "        \n",
    "        #Position list([x, y]), x is row, y is col of 1 maze position\n",
    "        self.position = list(position) # [ maze[x][y], maze[x+i][y+j] or None ]\n",
    "        self.parent = parent #Previous Node\n",
    "        \n",
    "    # Nodes with the same state are viewed as equal\n",
    "    def __eq__(self, other_node):\n",
    "        return isinstance(other_node, Node) and self.position == other_node.position #set allows positions to be unordered\n",
    "    \n",
    "    # Nodes with the same state hash to the same value\n",
    "    # (e.g., when storing them in a set or dictionary)\n",
    "    def __hash__(self):\n",
    "        return hash(self.position)"
   ]
  },
  {
   "cell_type": "code",
   "execution_count": 145,
   "metadata": {},
   "outputs": [
    {
     "name": "stdout",
     "output_type": "stream",
     "text": [
      "Cur Position:  [[0, 0]]\n",
      "Goal Position:  [[6, 6]]\n"
     ]
    }
   ],
   "source": [
    "from collections import deque\n",
    "\n",
    "#finds starting position of block\n",
    "for row in range(len(maze)):\n",
    "    for col in range(len(maze)):\n",
    "        if (maze[row][col] == 'S'):\n",
    "            start_position = [[row, col]] #need 2D array for multiple coordinates of horizontal block\n",
    "        if (maze[row][col] == 'G'):\n",
    "            goal_position = [[row, col]]\n",
    "            \n",
    "cur = Node(start_position, None)\n",
    "print(\"Cur Position: \", cur.position)\n",
    "print(\"Goal Position: \", goal_position)"
   ]
  },
  {
   "cell_type": "code",
   "execution_count": 99,
   "metadata": {},
   "outputs": [
    {
     "name": "stdout",
     "output_type": "stream",
     "text": [
      "Cur Position:  [[0, 0]]\n",
      "Next Position:  [[0, 1], [0, 2]]\n"
     ]
    }
   ],
   "source": [
    "next_position = [[0,1],[0,2]]\n",
    "next = Node(next_position, cur)\n",
    "print(\"Next Position: \",next.position)\n",
    "\n",
    "#Checks all ordered pair coordinates of node positions for matches\n",
    "for next_pos in range(len(next.position)):\n",
    "    for cur_pos in range(len(cur.position)):\n",
    "        if (next.position[next_pos] == cur.position[cur_pos]):\n",
    "            print(\"Invalid\")"
   ]
  },
  {
   "cell_type": "code",
   "execution_count": 138,
   "metadata": {},
   "outputs": [
    {
     "name": "stdout",
     "output_type": "stream",
     "text": [
      "[0, -1]\n"
     ]
    }
   ],
   "source": [
    "def change_direction(argument):\n",
    "    switch = {\n",
    "        0: [1,0],\n",
    "        1: [0,1],\n",
    "        2: [-1,0],\n",
    "        3: [0,-1]\n",
    "    }\n",
    "    print(switch.get(argument, \"None\"))\n",
    "    \n",
    "change_direction(3)"
   ]
  },
  {
   "cell_type": "code",
   "execution_count": 3,
   "metadata": {
    "scrolled": true
   },
   "outputs": [
    {
     "ename": "SyntaxError",
     "evalue": "invalid syntax (<ipython-input-3-4902e54bf602>, line 70)",
     "output_type": "error",
     "traceback": [
      "\u001b[0;36m  File \u001b[0;32m\"<ipython-input-3-4902e54bf602>\"\u001b[0;36m, line \u001b[0;32m70\u001b[0m\n\u001b[0;31m    valid_dir = 1\u001b[0m\n\u001b[0m              ^\u001b[0m\n\u001b[0;31mSyntaxError\u001b[0m\u001b[0;31m:\u001b[0m invalid syntax\n"
     ]
    }
   ],
   "source": [
    "directions = [[1,0],[0,1],[-1,0],[0,-1]]\n",
    "\n",
    "#BFS search\n",
    "frontier = deque()\n",
    "explored = []\n",
    "cur = Node(start_position, None)\n",
    "\n",
    "frontier.append(cur)\n",
    "if (cur.position == goal_position):\n",
    "    return frontier\n",
    "\n",
    "while (len(frontier) > 0):\n",
    "    cur = frontier.popleft()\n",
    "    explored.append(cur.position)\n",
    "\n",
    "    #For possible next node position i.e. (up down left right)\n",
    "    for vector in range(len(directions)):\n",
    "        \n",
    "        next_position = []\n",
    "        valid_dir = 0\n",
    "            \n",
    "            \n",
    "        #TODO: Condense the next_poition generator!!!  \n",
    "        \n",
    "        #rolls block into horizontal position\n",
    "        if (len(cur.position) == 1):\n",
    "            next_position.append([cur.position[0] + vector[0], cur.position[1] + vector[1]])\n",
    "            next_position.append([cur.position[0] + 2 * vector[0], cur.position[1] + 2 * vector[1]])\n",
    "        \n",
    "        \n",
    "        #same x components of 2 different cur positions are same\n",
    "        elif (cur.position[0][0] == cur.position[1][0]):          \n",
    "            \n",
    "            #rolls block into horizontal position (left, right)\n",
    "            if (vector == directions[0] or vector == directions[2]):\n",
    "                next_position.append([cur.position[0][0] + vector[0], cur.position[0][1] + vector[1]])\n",
    "                next_position.append([cur.position[1][0] + vector[0], cur.position[1][1] + vector[1]])\n",
    "            \n",
    "            #rolls block into vertical position (up, down)\n",
    "            else:\n",
    "                if (vector[1] == 1):\n",
    "                    pivot = max(cur.position[0][1], cur.position[1][1]) #max cur y value\n",
    "                elif (vector[1] == -1):\n",
    "                    pivot = min(cur.position[0][1], cur.position[1][1]) #min cur y value\n",
    "                next_position.append([cur.position[0][0], pivot + vector[1]])\n",
    "\n",
    "                \n",
    "        #same y components of 2 different cur positions are same\n",
    "        elif (cur.position[0][0] == cur.position[0][1]):\n",
    "            \n",
    "            #rolls block into horizontal position (up, down)\n",
    "            if (vector == directions[1] or vector == directions[3]):\n",
    "                next_position.append([cur.position[0][0] + vector[0], cur.position[0][1] + vector[1]])\n",
    "                next_position.append([cur.position[1][0] + vector[0], cur.position[1][1] + vector[1]])\n",
    "            \n",
    "            #rolls block into vertical position (left, right)\n",
    "            else:\n",
    "                if (vector[0] == 1):\n",
    "                    pivot = max(cur.position[0][0], cur.position[1][0]) #max cur x value\n",
    "                elif (vector[0] == -1):\n",
    "                    pivot = min(cur.position[0][0], cur.position[1][0]) #min cur x value\n",
    "                next_position.append([cur.position[0][0], pivot + vector[1]])\n",
    "        \n",
    "        #tests if there is an obstacle in next_position or if it goes off the maze\n",
    "        for coord in next_position:\n",
    "            if (coord[0] <= len(maze)): #valid x coordinate\n",
    "                if (coord[1] <= len(maze[0])): #valid y coordinate\n",
    "                    if (maze[coord[0][coord[1]] == '.' :\n",
    "                        valid_dir = 1\n",
    "                    if (maze[coord[0]][coord[1]] != '.'): #in case of invalid second coordinate\n",
    "                        valid_dir = 0\n",
    "    \n",
    "        if (valid_dir == 1):\n",
    "            next = Node(next_position, None)\n",
    "            if (next not in frontier and next.position not in explored):\n",
    "                next.parent = cur\n",
    "\n",
    "                if (next.position == goal_position):\n",
    "                    best_path = deque()\n",
    "                    while (next.parent != None):\n",
    "                        best_path.append(next.position)\n",
    "                        next = next.parent\n",
    "                    best_path.append(start_position)\n",
    "                    reordered_best_path = []\n",
    "                    for solution in range(len(best_path)):\n",
    "                        reordered_best_path.append(best_path.pop())\n",
    "                    return reordered_best_path #Shortest Path to goalWord from startWord\n",
    "                frontier.append(next)"
   ]
  },
  {
   "cell_type": "code",
   "execution_count": 139,
   "metadata": {},
   "outputs": [
    {
     "name": "stdout",
     "output_type": "stream",
     "text": [
      "5\n"
     ]
    }
   ],
   "source": [
    "r = max(3,5)\n",
    "print(r)\n",
    "##############################################################################################################\n",
    "##############################################################################################################\n",
    "##############################################################################################################\n",
    "##############################################################################################################\n",
    "##############################################################################################################\n",
    "##############################################################################################################\n",
    "##############################################################################################################"
   ]
  },
  {
   "cell_type": "code",
   "execution_count": 46,
   "metadata": {},
   "outputs": [],
   "source": [
    "class Node:\n",
    "    def __init__(self, position, parent):\n",
    "        \n",
    "        #Position list([x, y]), x is row, y is col of 1 maze position\n",
    "        self.position = list(position) # [ maze[x][y], maze[x+i][y+j] or None ]\n",
    "        self.parent = parent #Previous Node\n",
    "        \n",
    "    # Nodes with the same state are viewed as equal\n",
    "    def __eq__(self, other_node):\n",
    "        return isinstance(other_node, Node) and self.position == other_node.position #set allows positions to be unordered\n",
    "    \n",
    "    # Nodes with the same state hash to the same value\n",
    "    # (e.g., when storing them in a set or dictionary)\n",
    "    def __hash__(self):\n",
    "        return hash(self.position)\n",
    "    \n",
    "##############################################################################################################\n",
    "\n",
    "maze_file = open(\"/Users/sean/Desktop/AI/project0/project-1-rolling-block-mazes-kelly-sean-griffin/maze1.txt\", \"r\")\n",
    "visual_maze = maze_file.readlines() #visually appealing view of maze with '\\n'\n",
    "maze = []\n",
    "\n",
    "#removes newline from end of each row in maze and appends it to 2D maze array\n",
    "for row in range(len(visual_maze)):\n",
    "    maze.append(list(visual_maze[row]))\n",
    "    del maze[row][len(maze[row])-1]\n",
    "maze\n",
    "\n",
    "##############################################################################################################\n",
    "\n",
    "from collections import deque\n",
    "\n",
    "#finds starting position of block\n",
    "for row in range(len(maze)):\n",
    "    for col in range(len(maze)):\n",
    "        if (maze[row][col] == 'S'):\n",
    "            start_position = [[row, col]] #need 2D array for multiple coordinates of horizontal block\n",
    "        if (maze[row][col] == 'G'):\n",
    "            goal_position = [[row, col]]\n",
    "            \n",
    "cur = Node(start_position, None)\n",
    "#print(\"Cur Position: \", cur.position)\n",
    "#print(\"Goal Position: \", goal_position)\n",
    "\n",
    "##############################################################################################################\n",
    "\n",
    "def bfs():\n",
    "    directions = [[-1,0],[1,0],[0,1],[0,-1]] #up, down, right, left i.e. (y,x) or M*N\n",
    "\n",
    "    #BFS search\n",
    "    frontier = deque()\n",
    "    explored = []\n",
    "    cur = Node(start_position, None)\n",
    "\n",
    "    frontier.append(cur)\n",
    "    if (cur.position == goal_position):\n",
    "        return frontier\n",
    "\n",
    "    while (frontier):\n",
    "        cur = frontier.popleft()\n",
    "        explored.append(cur.position)\n",
    "\n",
    "        #For possible next node position i.e. (up down left right)\n",
    "        for vector in directions:\n",
    "\n",
    "            next_position = []\n",
    "            valid_dir = 0\n",
    "\n",
    "            \n",
    "            #TODO: Condense the next_position generator!!!\n",
    "            \n",
    "\n",
    "            #print(\"cur~~~~~~~~~~~~~: \", cur.position) ###################\n",
    "            #rolls block into horizontal position\n",
    "            if (len(cur.position) == 1):\n",
    "                next_position.append([cur.position[0][0] + vector[0], cur.position[0][1] + vector[1]])\n",
    "                next_position.append([cur.position[0][0] + 2 * vector[0], cur.position[0][1] + 2 * vector[1]])\n",
    "            \n",
    "            #same column of 2 different cur positions are same        []\n",
    "            elif (cur.position[0][1] == cur.position[1][1]): #        []           \n",
    "                \n",
    "                #rolls block into vertical position (up, down)\n",
    "                if (vector == directions[0] or vector == directions[1]): # (+/-1,0)\n",
    "                    if (vector[0] == 1):\n",
    "                        leading_pivot = max(cur.position[0][0], cur.position[1][0]) #max cur row\n",
    "                    elif (vector[0] == -1):\n",
    "                        leading_pivot = min(cur.position[0][0], cur.position[1][0]) #min cur row\n",
    "                    next_position.append([leading_pivot + vector[0], cur.position[0][1]])\n",
    "\n",
    "                #rolls block into horizontal position (left, right) i.e. (0,+/-1)\n",
    "                else:\n",
    "                    next_position.append([cur.position[0][0] + vector[0], cur.position[0][1] + vector[1]])\n",
    "                    next_position.append([cur.position[1][0] + vector[0], cur.position[1][1] + vector[1]])\n",
    "\n",
    "\n",
    "            #same row of 2 different cur positions are same       [][]\n",
    "            elif (cur.position[0][0] == cur.position[1][0]):\n",
    "\n",
    "                #rolls block into vertical position (left, right)\n",
    "                if (vector == directions[2] or vector == directions[3]): #(0,+/-1)\n",
    "                    if (vector[1] == 1):\n",
    "                        leading_pivot = max(cur.position[0][1], cur.position[1][1]) #max cur col\n",
    "                    else: #(vector[0] == -1):\n",
    "                        leading_pivot = min(cur.position[0][1], cur.position[1][1]) #min cur col\n",
    "                    next_position.append([cur.position[0][0], leading_pivot + vector[1]])\n",
    "                    \n",
    "                #rolls block into horizontal position (up, down) i.e. (+/-1,0)\n",
    "                else:\n",
    "                    next_position.append([cur.position[0][0] + vector[0], cur.position[0][1] + vector[1]])\n",
    "                    next_position.append([cur.position[1][0] + vector[0], cur.position[1][1] + vector[1]])\n",
    "\n",
    "            #tests if there is an obstacle in next_position or if it goes off the maze\n",
    "            valid_dir = 0\n",
    "            for coord in next_position:\n",
    "                #print(\"Coord: \", coord) ########################\n",
    "                if (coord[0] < len(maze) and coord[0] >= 0): #valid y coordinate in maze\n",
    "                    if (coord[1] < len(maze[0]) and coord[1] >= 0): #valid x coordinate in maze\n",
    "                        if (maze[coord[0]][coord[1]] == '.' or maze[coord[0]][coord[1]] == 'G' or maze[coord[0]][coord[1]] == 'S'):\n",
    "                            valid_dir = valid_dir + 1\n",
    "                            \n",
    "            #print(\"next_position: \", next_position) ###################     \n",
    "            if (valid_dir == len(next_position)):\n",
    "                #print(\"valid\")  ###################\n",
    "                next = Node(next_position, None)\n",
    "                if (next not in frontier):\n",
    "                    \n",
    "                    matching_pairs = 0 #ordered pair of 2 positions can be backwards\n",
    "                    \n",
    "                    #checks if next position is in explored\n",
    "                    for exp_pos in range(len(explored)): \n",
    "                        #print(\"Compare: \", next.position, \" // \", explored[exp_pos]) ###################\n",
    "                        for exp_pair in range(len(explored[exp_pos])):\n",
    "                            for next_pos in range(len(next.position)):\n",
    "                                if (next.position[next_pos] == explored[exp_pos][exp_pair]):\n",
    "                                    #print(\"Match: \", next.position[next_pos], \" // \", explored[exp_pos][exp_pair]) ###################\n",
    "                                    matching_pairs = matching_pairs + 1\n",
    "                    \n",
    "                    #next position is not in explored\n",
    "                    if (matching_pairs != len(next.position) or matching_pairs != len(explored[exp_pos])):\n",
    "                        \n",
    "                        next.parent = cur\n",
    "                        #print(\"~~~~~~~~Cur: \", cur.position) ###################\n",
    "                        #print(\"New Next: \", next.position) ###################\n",
    "                        #print(\"Explored: \", explored) ###################\n",
    "                        if (next.position == goal_position):\n",
    "                            best_path = deque()\n",
    "                            while (next.parent != None):\n",
    "                                best_path.append(next.position)\n",
    "                                next = next.parent\n",
    "                            best_path.append(start_position)\n",
    "                            reordered_best_path = []\n",
    "                            for solution in range(len(best_path)):\n",
    "                                reordered_best_path.append(best_path.pop())\n",
    "                            return reordered_best_path #Shortest Path to goalWord from startWord\n",
    "                        frontier.append(next)\n",
    "    return None"
   ]
  },
  {
   "cell_type": "code",
   "execution_count": 47,
   "metadata": {
    "scrolled": false
   },
   "outputs": [
    {
     "name": "stdout",
     "output_type": "stream",
     "text": [
      "['S', '.', '.', '.', '.', '.', '.']\n",
      "['.', '.', '.', '.', '.', '.', '.']\n",
      "['.', '.', '.', '*', '.', '.', '.']\n",
      "['.', '.', '.', '.', '*', '.', '.']\n",
      "['.', '.', '.', '.', '.', '*', '.']\n",
      "['.', '.', '*', '.', '.', '.', '.']\n",
      "['.', '.', '.', '.', '.', '.', 'G']\n",
      "Shortest Block Path:  [[[0, 0]], [[1, 0], [2, 0]], [[3, 0]], [[4, 0], [5, 0]], [[6, 0]], [[6, 1], [6, 2]], [[6, 3]], [[6, 4], [6, 5]], [[6, 6]]]\n"
     ]
    }
   ],
   "source": [
    "#maze is in MxN notation, block coordinates are in X,Y ordered pairs.\n",
    "for i in range(len(maze)): \n",
    "    print(maze[i])\n",
    "print(\"Shortest Block Path: \", bfs())"
   ]
  },
  {
   "cell_type": "code",
   "execution_count": 53,
   "metadata": {},
   "outputs": [
    {
     "data": {
      "text/plain": [
       "[['o', '.', '.', '.', '.', '.', '.'],\n",
       " ['|', '.', '.', '.', '.', '.', '.'],\n",
       " ['|', '.', '.', '*', '.', '.', '.'],\n",
       " ['o', '.', '.', '.', '*', '.', '.'],\n",
       " ['|', '.', '.', '.', '.', '*', '.'],\n",
       " ['|', '.', '*', '.', '.', '.', '.'],\n",
       " ['o', '_', '_', 'o', '_', '_', 'o']]"
      ]
     },
     "execution_count": 53,
     "metadata": {},
     "output_type": "execute_result"
    }
   ],
   "source": [
    "path = [[[0, 0]], [[1, 0], [2, 0]], [[3, 0]], [[4, 0], [5, 0]], [[6, 0]], [[6, 1], [6, 2]], [[6, 3]], [[6, 4], [6, 5]], [[6, 6]]]\n",
    "solved_maze = maze.copy()\n",
    "for position in path:\n",
    "    if (position != 'S' and position != 'G'):\n",
    "        if (len(position) == 2):\n",
    "            \n",
    "            if (position[0][0] == position[1][0]): #same row, lay flat East-West (_)\n",
    "                solved_maze[position[0][0]][position[0][1]] = '_'\n",
    "                solved_maze[position[1][0]][position[1][1]] = '_'\n",
    "            \n",
    "            if (position[0][1] == position[1][1]): #same row, lay flat North-South (|)\n",
    "                solved_maze[position[0][0]][position[0][1]] = '|'\n",
    "                solved_maze[position[1][0]][position[1][1]] = '|'\n",
    "                \n",
    "        else:\n",
    "            solved_maze[position[0][0]][position[0][1]] = 'o'\n",
    "            \n",
    "solved_maze"
   ]
  },
  {
   "cell_type": "code",
   "execution_count": null,
   "metadata": {},
   "outputs": [],
   "source": [
    "Shortest Block Path:  [[[0, 0]], [[0, 1], [0, 2]], [[1, 1], [1, 2]], [[2, 1], [2, 2]], [[3, 1], [3, 2]],\n",
    "                       ((((([[4, 1], [4, 2]]))))))), [[4, 3]], ((((((([[4, 2], [4, 1]]))))))), [[5, 2], [5, 1]],\n",
    "                       [[6, 2], [6, 1]], [[6, 3]], [[6, 4], [6, 5]], [[6, 6]]]"
   ]
  },
  {
   "cell_type": "code",
   "execution_count": null,
   "metadata": {},
   "outputs": [],
   "source": [
    "Shortest Block Path:  [[[0, 0]], [[0, 1], [0, 2]], [[1, 1], [1, 2]], [[2, 1], [2, 2]], [[3, 1], [3, 2]],\n",
    "                       ((((([[4, 1], [4, 2]]))))))), [[4, 3]], ((((((((([[4, 2], [4, 1]],)))))))))) \n",
    "                       [[5, 2], [5, 1]], [[6, 2], [6, 1]],[[6, 3]], [[6, 4], [6, 5]], [[6, 6]]]\n",
    "    \n",
    "    [[4, 2], [4, 1]] already visited, need to check for equality of ordered pairs sorted differently"
   ]
  },
  {
   "cell_type": "code",
   "execution_count": 1,
   "metadata": {},
   "outputs": [
    {
     "ename": "SyntaxError",
     "evalue": "invalid syntax (<ipython-input-1-66292d37d9c0>, line 1)",
     "output_type": "error",
     "traceback": [
      "\u001b[0;36m  File \u001b[0;32m\"<ipython-input-1-66292d37d9c0>\"\u001b[0;36m, line \u001b[0;32m1\u001b[0m\n\u001b[0;31m    New Next:  [[3, 6], [2, 6]]\u001b[0m\n\u001b[0m           ^\u001b[0m\n\u001b[0;31mSyntaxError\u001b[0m\u001b[0;31m:\u001b[0m invalid syntax\n"
     ]
    }
   ],
   "source": [
    "New Next:  [[3, 6], [2, 6]]\n",
    "Explored:  [[[0, 0]], [[1, 0], [2, 0]], [[0, 1], [0, 2]], [[1, 1], [1, 2]], [[0, 3]], [[2, 1], [2, 2]], [[1, 3]],\n",
    "            [[1, 0]], [[0, 4], [0, 5]], [[0, 2], [0, 1]], [[3, 1], [3, 2]], [[2, 0]], [[2, 3], [3, 3]],\n",
    "            [[1, 4], [1, 5]], [[0, 3], [-1, 3]], [[1, 2], [1, 1]], [[2, 0], [3, 0]], [[0, 6]], [[4, 1], [4, 2]], \n",
    "            [[3, 3]], [[3, 0]], [[3, 0], [4, 0]], [[2, 4], [2, 5]], [[1, 6]], [[2, 2], [2, 1]], [[1, 6], [2, 6]], \n",
    "            [[0, 5], [0, 4]], [[4, 3]], [[4, 0]], [[4, 3], [5, 3]], [[3, 4], [3, 5]], [[2, 3], [1, 3]],\n",
    "            [[3, 2], [3, 1]], [[4, 0], [5, 0]], [[2, 0], [1, 0]], [[2, 6]], [[2, 6], [3, 6]], [[0, 6], [-1, 6]],\n",
    "            [[1, 5], [1, 4]], [[5, 3], [6, 3]], [[4, 2], [4, 1]], [[5, 0], [6, 0]], [[3, 0], [2, 0]], [[3, 6]],\n",
    "            [[3, 6], [4, 6]], [[1, 6], [0, 6]], [[2, 5], [2, 4]], [[5, 2], [5, 1]], [[4, 6], [5, 6]],\n",
    "            [[2, 6], [1, 6]], [[6, 2], [6, 1]], [[5, 3]], [[5, 0]], [[6, 3]], [[6, 0]], [[6, 3], [7, 3]],\n",
    "            [[5, 4], [5, 5]], [[4, 3], [3, 3]], [[6, 0], [7, 0]], [[4, 0], [3, 0]], (((((((([[6, 4], [6, 5]],))))))))))\n",
    "            [[5, 3], [4, 3]], [[6, 1], [6, 2]], [[5, 0], [4, 0]], [[5, 6]], [[4, 6], [3, 6]], [[5, 5], [5, 4]],\n",
    "            ((((((((([[6, 5], [6, 4]]))))))))))), [[4, 5], [4, 4]], [[4, 6]]]\n",
    "None\n",
    "\n",
    "Should've had possible next [6,6] after (((((())))))"
   ]
  },
  {
   "cell_type": "code",
   "execution_count": 6,
   "metadata": {},
   "outputs": [
    {
     "name": "stdout",
     "output_type": "stream",
     "text": [
      "1\n"
     ]
    }
   ],
   "source": [
    "import heapq\n",
    "\n",
    "frontier = []\n",
    "heapq.heappush(frontier,'5')\n",
    "heapq.heappush(frontier,'1')\n",
    "heapq.heappush(frontier,'9')\n",
    "print(heapq.heappop(frontier))"
   ]
  },
  {
   "cell_type": "code",
   "execution_count": 33,
   "metadata": {},
   "outputs": [],
   "source": [
    "class Node:\n",
    "    def __init__(self, pos, val):\n",
    "        \n",
    "        self.val = val\n",
    "        \n",
    "    def __eq__(self, other):\n",
    "        return isinstance(other, Node) and self.pos == other.pos\n",
    "  \n",
    "    # Node is less than other node\n",
    "    def __lt__(self, other):\n",
    "        return isinstance(other, Node) and self.val < other.val\n",
    "\n",
    "    # Node is greater than other node\n",
    "    def __gt__(self, other):\n",
    "        return isinstance(other, Node) and self.val > other.val"
   ]
  },
  {
   "cell_type": "code",
   "execution_count": 43,
   "metadata": {},
   "outputs": [],
   "source": [
    "a = Node('a',5)\n",
    "b = Node('b',2)\n",
    "c = Node('c',7)\n",
    "d = Node('a',4)"
   ]
  },
  {
   "cell_type": "code",
   "execution_count": 44,
   "metadata": {},
   "outputs": [],
   "source": [
    "import heapq\n",
    "\n",
    "frontier = []\n",
    "heapq.heappush(frontier,a)\n",
    "heapq.heappush(frontier,b)\n",
    "heapq.heappush(frontier,c)\n",
    "\n",
    "#result = heapq.heappop(frontier)"
   ]
  },
  {
   "cell_type": "code",
   "execution_count": 45,
   "metadata": {},
   "outputs": [
    {
     "name": "stdout",
     "output_type": "stream",
     "text": [
      "2\n"
     ]
    }
   ],
   "source": [
    "print(result.val)"
   ]
  },
  {
   "cell_type": "code",
   "execution_count": 46,
   "metadata": {},
   "outputs": [
    {
     "data": {
      "text/plain": [
       "3"
      ]
     },
     "execution_count": 46,
     "metadata": {},
     "output_type": "execute_result"
    }
   ],
   "source": [
    "len(frontier)"
   ]
  },
  {
   "cell_type": "code",
   "execution_count": 49,
   "metadata": {},
   "outputs": [
    {
     "data": {
      "text/plain": [
       "7"
      ]
     },
     "execution_count": 49,
     "metadata": {},
     "output_type": "execute_result"
    }
   ],
   "source": [
    "frontier[2].val"
   ]
  },
  {
   "cell_type": "code",
   "execution_count": 53,
   "metadata": {},
   "outputs": [
    {
     "name": "stdout",
     "output_type": "stream",
     "text": [
      "A:  2\n",
      "B:  1\n"
     ]
    }
   ],
   "source": [
    "# want a == c, a !=b\n",
    "a = [[0,0],[1,1]]\n",
    "b = [[0,0]]\n",
    "c = [[1,1],[0,0]]\n",
    "print(\"A: \",len(a))\n",
    "print(\"B: \",len(b))"
   ]
  },
  {
   "cell_type": "code",
   "execution_count": 58,
   "metadata": {
    "scrolled": true
   },
   "outputs": [],
   "source": [
    "def eq_pos(a,b):\n",
    "#\"\"\"Returns true if position lists a and b are identical, returns false if they represent different positions\"\"\"\n",
    "\n",
    "    matching_pairs = 0\n",
    "    \n",
    "    for a_pos in range(len(a)):\n",
    "        for b_pos in range(len(b)):\n",
    "            if (a[a_pos] == b[b_pos]):\n",
    "                matching_pairs = matching_pairs + 1\n",
    "                \n",
    "    if (matching_pairs != len(a) or matching_pairs != len(b)):\n",
    "        return False #position lists don't match\n",
    "    \n",
    "    return True"
   ]
  },
  {
   "cell_type": "code",
   "execution_count": 60,
   "metadata": {},
   "outputs": [
    {
     "data": {
      "text/plain": [
       "True"
      ]
     },
     "execution_count": 60,
     "metadata": {},
     "output_type": "execute_result"
    }
   ],
   "source": [
    "eq_pos(a,c)"
   ]
  },
  {
   "cell_type": "code",
   "execution_count": null,
   "metadata": {},
   "outputs": [],
   "source": []
  }
 ],
 "metadata": {
  "kernelspec": {
   "display_name": "Python 3",
   "language": "python",
   "name": "python3"
  },
  "language_info": {
   "codemirror_mode": {
    "name": "ipython",
    "version": 3
   },
   "file_extension": ".py",
   "mimetype": "text/x-python",
   "name": "python",
   "nbconvert_exporter": "python",
   "pygments_lexer": "ipython3",
   "version": "3.7.6"
  }
 },
 "nbformat": 4,
 "nbformat_minor": 4
}
